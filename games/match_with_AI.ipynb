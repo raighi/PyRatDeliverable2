{
 "cells": [
  {
   "cell_type": "markdown",
   "metadata": {},
   "source": [
    "<h1 style=\"background-color: gray;\n",
    "           color: black;\n",
    "           padding: 20px;\n",
    "           text-align: center;\">INFO</h1>\n",
    "\n",
    "This script creates a sample game, in which two players compete in the maze."
   ]
  },
  {
   "cell_type": "markdown",
   "metadata": {},
   "source": [
    "<h1 style=\"background-color: gray;\n",
    "           color: black;\n",
    "           padding: 20px;\n",
    "           text-align: center;\">IMPORTS</h1>"
   ]
  },
  {
   "cell_type": "code",
   "execution_count": 5,
   "metadata": {},
   "outputs": [],
   "source": [
    "# External imports\n",
    "import sys\n",
    "import os\n",
    "import pprint\n",
    "\n",
    "# Add needed directories to the path\n",
    "sys.path.append(os.path.join(\"..\", \"players\"))\n",
    "\n",
    "# PyRat imports\n",
    "from pyrat import Game, PlayerSkin, StartingLocation, GameMode\n",
    "from AI import AI\n",
    "from Random4 import Random4"
   ]
  },
  {
   "cell_type": "markdown",
   "metadata": {},
   "source": [
    "<h1 style=\"background-color: gray;\n",
    "           color: black;\n",
    "           padding: 20px;\n",
    "           text-align: center;\">CONSTANTS</h1>\n",
    "\n",
    "Let's configure the game with a dictionary."
   ]
  },
  {
   "cell_type": "code",
   "execution_count": 6,
   "metadata": {},
   "outputs": [],
   "source": [
    "# Customize the game elements\n",
    "CONFIG = {\"maze_width\": 25,\n",
    "          \"maze_height\": 20,\n",
    "          \"cell_percentage\": 80.0,\n",
    "          \"wall_percentage\": 60.0,\n",
    "          \"mud_percentage\": 20.0,\n",
    "          \"mud_range\": [4,9],\n",
    "          \"nb_cheese\": 41,\n",
    "          \"preprocessing_time\": 3.0,\n",
    "          \"turn_time\": 0.1,\n",
    "          \"game_mode\": GameMode.SEQUENTIAL}"
   ]
  },
  {
   "cell_type": "markdown",
   "metadata": {},
   "source": [
    "<h1 style=\"background-color: gray;\n",
    "           color: black;\n",
    "           padding: 20px;\n",
    "           text-align: center;\">RUN THE GAME</h1>"
   ]
  },
  {
   "cell_type": "markdown",
   "metadata": {},
   "source": [
    "We perform a single game with the configuration defined above."
   ]
  },
  {
   "cell_type": "code",
   "execution_count": 7,
   "metadata": {},
   "outputs": [
    {
     "name": "stderr",
     "output_type": "stream",
     "text": [
      "Player AI has crashed with the following error:\n",
      "Traceback (most recent call last):\n",
      "  File \"C:\\Users\\Corentin\\AppData\\Roaming\\Python\\Python312\\site-packages\\pyrat\\src\\Game.py\", line 881, in _player_process_function\n",
      "    player.preprocessing(maze, game_state)\n",
      "  File \"c:\\Users\\Corentin\\Desktop\\info_IMT\\pyrat\\pyrat_workspace\\games\\..\\players\\AI.py\", line 73, in preprocessing\n",
      "    with open('../utils/current_network.json', 'r') as f:\n",
      "         ^^^^^^^^^^^^^^^^^^^^^^^^^^^^^^^^^^^^^^^\n",
      "FileNotFoundError: [Errno 2] No such file or directory: 'utils/current_network.json'\n",
      "\n",
      "Traceback (most recent call last):\n",
      "  File \"C:\\Users\\Corentin\\AppData\\Roaming\\Python\\Python312\\site-packages\\pyrat\\src\\Game.py\", line 572, in start\n",
      "    raise Exception(\"A player has crashed, exiting\")\n",
      "Exception: A player has crashed, exiting\n",
      "\n"
     ]
    }
   ],
   "source": [
    "# Instantiate a game with specified arguments\n",
    "game = Game(**CONFIG)\n",
    "\n",
    "# Instantiate players in distinct teams\n",
    "player_1 = AI(skin=PlayerSkin.RAT)\n",
    "player_2 = Random4(skin=PlayerSkin.PYTHON)\n",
    "\n",
    "game.add_player(player_1, \"Team Ratz\", location=StartingLocation.RANDOM)\n",
    "game.add_player(player_2, \"Team Pythonz\", location=StartingLocation.RANDOM)\n",
    "\n",
    "\n",
    "# Start the game\n",
    "stats = game.start()"
   ]
  },
  {
   "cell_type": "markdown",
   "metadata": {},
   "source": [
    "We visualize results using a pretty printer."
   ]
  },
  {
   "cell_type": "code",
   "execution_count": 8,
   "metadata": {},
   "outputs": [
    {
     "name": "stdout",
     "output_type": "stream",
     "text": [
      "{}\n"
     ]
    }
   ],
   "source": [
    "# Show statistics\n",
    "pprint.pprint(stats) "
   ]
  },
  {
   "cell_type": "code",
   "execution_count": null,
   "metadata": {},
   "outputs": [],
   "source": []
  }
 ],
 "metadata": {
  "kernelspec": {
   "display_name": "Python 3",
   "language": "python",
   "name": "python3"
  },
  "language_info": {
   "codemirror_mode": {
    "name": "ipython",
    "version": 3
   },
   "file_extension": ".py",
   "mimetype": "text/x-python",
   "name": "python",
   "nbconvert_exporter": "python",
   "pygments_lexer": "ipython3",
   "version": "3.12.0"
  }
 },
 "nbformat": 4,
 "nbformat_minor": 2
}
